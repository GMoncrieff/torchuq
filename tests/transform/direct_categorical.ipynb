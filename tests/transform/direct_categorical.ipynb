{
 "cells": [
  {
   "cell_type": "code",
   "execution_count": 1,
   "id": "attached-victor",
   "metadata": {},
   "outputs": [],
   "source": [
    "import torch\n",
    "import sys\n",
    "sys.path.append('../..')\n",
    "from torchuq.transform.direct import *"
   ]
  },
  {
   "cell_type": "code",
   "execution_count": 2,
   "id": "automotive-therapy",
   "metadata": {},
   "outputs": [
    {
     "name": "stdout",
     "output_type": "stream",
     "text": [
      "tensor([1.8664e-04, 4.3313e-02, 1.5761e-01, 1.3957e-01, 1.3013e-01, 1.9133e-01,\n",
      "        1.5116e-02, 8.6883e-02, 1.1163e-03, 2.3475e-01])\n"
     ]
    }
   ],
   "source": [
    "predictions = torch.rand(1000, 10) ** 2\n",
    "predictions = predictions / predictions.sum(dim=1, keepdims=True)\n",
    "print(predictions[0])"
   ]
  },
  {
   "cell_type": "code",
   "execution_count": 6,
   "id": "fundamental-window",
   "metadata": {},
   "outputs": [
    {
     "name": "stdout",
     "output_type": "stream",
     "text": [
      "tensor(0.1413)\n",
      "tensor(5.9605e-08)\n",
      "tensor(0.5000)\n",
      "tensor(0.4998)\n",
      "tensor(0.9001)\n",
      "tensor(0.9000)\n",
      "tensor(0.9800)\n",
      "tensor(0.9800)\n",
      "tensor(0.9900)\n",
      "tensor(0.9900)\n",
      "tensor(1.0000)\n",
      "tensor(1.0000)\n"
     ]
    }
   ],
   "source": [
    "\n",
    "for threshold in [0.0001, 0.5, 0.9, 0.98, 0.99, 0.99999]:\n",
    "    setpred = categorical_to_set(predictions, threshold=threshold)\n",
    "    # Check that the total probability indeed exceeds the threshold\n",
    "    total_prob = (predictions * setpred).sum(dim=1)\n",
    "    print(total_prob.min())\n",
    "    assert (total_prob >= threshold).all()\n",
    "    \n",
    "    # Check that removing any item fails to exceed the threshold\n",
    "    min_elem = (predictions * setpred + 1 - setpred).min(dim=1)[0]\n",
    "    sum_minus_one = (predictions * setpred).sum(dim=1) - min_elem\n",
    "    print(sum_minus_one.max())\n",
    "    assert (sum_minus_one <= threshold).all()"
   ]
  },
  {
   "cell_type": "code",
   "execution_count": null,
   "id": "indie-secretariat",
   "metadata": {},
   "outputs": [],
   "source": []
  }
 ],
 "metadata": {
  "kernelspec": {
   "display_name": "Python 3",
   "language": "python",
   "name": "python3"
  },
  "language_info": {
   "codemirror_mode": {
    "name": "ipython",
    "version": 3
   },
   "file_extension": ".py",
   "mimetype": "text/x-python",
   "name": "python",
   "nbconvert_exporter": "python",
   "pygments_lexer": "ipython3",
   "version": "3.8.3"
  }
 },
 "nbformat": 4,
 "nbformat_minor": 5
}
