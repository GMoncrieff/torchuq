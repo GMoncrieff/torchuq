{
 "cells": [
  {
   "cell_type": "code",
   "execution_count": 1,
   "id": "alike-repository",
   "metadata": {},
   "outputs": [],
   "source": [
    "import numpy as np\n",
    "from matplotlib import pyplot as plt\n",
    "import torch\n",
    "from torch.nn import functional as F\n",
    "import os, sys, time\n",
    "sys.path.append('../../')"
   ]
  },
  {
   "cell_type": "code",
   "execution_count": 2,
   "id": "renewable-sensitivity",
   "metadata": {},
   "outputs": [],
   "source": [
    "# Use a class to represent arguments, so this can be replaced with argparse seamlessly \n",
    "class Args:\n",
    "    def __init__(self):\n",
    "        self.dataset = 'inception_v3' # Available pretrained include imagenet_inception_v3, imagenet_densenet121, imagenet_resnet18\n",
    "        \n",
    "        self.num_classes = 10\n",
    "        self.num_action = 2\n",
    "        self.calib_steps = 150\n",
    "        self.num_epoch = 1000\n",
    "        \n",
    "        # Run related parameters\n",
    "        self.gpu = 1\n",
    "        \n",
    "args = Args()\n",
    "device = torch.device('cuda:%d' % args.gpu)\n",
    "args.device = device"
   ]
  },
  {
   "cell_type": "code",
   "execution_count": 3,
   "id": "loved-showcase",
   "metadata": {},
   "outputs": [],
   "source": [
    "dataset = torch.load(os.path.join('pretrained/imagenet', '%s.pt' % args.dataset), map_location=device)\n",
    "\n",
    "# do a naive merge of imagenet classes\n",
    "m_classes = 1000 // args.num_classes\n",
    "dataset['val_prob'] = dataset['val_prob'].view(-1, args.num_classes, m_classes).sum(dim=-1)\n",
    "dataset['test_prob'] = dataset['test_prob'].view(-1, args.num_classes, m_classes).sum(dim=-1)\n",
    "dataset['val_labels'] = torch.argmax(F.one_hot(dataset['val_labels'], num_classes=1000).view(-1, args.num_classes, m_classes).sum(dim=-1), dim=-1)\n",
    "dataset['test_labels'] = torch.argmax(F.one_hot(dataset['test_labels'], num_classes=1000).view(-1, args.num_classes, m_classes).sum(dim=-1), dim=-1)\n"
   ]
  },
  {
   "cell_type": "code",
   "execution_count": 4,
   "id": "ordinary-yacht",
   "metadata": {},
   "outputs": [
    {
     "data": {
      "image/png": "[encoded data removed]",
      "text/plain": [
       "<Figure size 432x288 with 1 Axes>"
      ]
     },
     "metadata": {
      "needs_background": "light"
     },
     "output_type": "display_data"
    },
    {
     "name": "stdout",
     "output_type": "stream",
     "text": [
      "Iteration 0, lr=0.00100, NLL=0.857\n",
      "Iteration 100, lr=0.00100, NLL=0.802\n",
      "Iteration 200, lr=0.00100, NLL=0.761\n",
      "Iteration 300, lr=0.00100, NLL=0.730\n",
      "Iteration 400, lr=0.00100, NLL=0.706\n",
      "Iteration 500, lr=0.00100, NLL=0.687\n",
      "Iteration 600, lr=0.00100, NLL=0.672\n",
      "Iteration 700, lr=0.00100, NLL=0.659\n",
      "Iteration 800, lr=0.00100, NLL=0.649\n",
      "Iteration 900, lr=0.00100, NLL=0.640\n",
      "Iteration 1000, lr=0.00100, NLL=0.633\n",
      "Iteration 1100, lr=0.00100, NLL=0.627\n",
      "Iteration 1200, lr=0.00100, NLL=0.622\n",
      "Iteration 1300, lr=0.00100, NLL=0.618\n",
      "Iteration 1400, lr=0.00100, NLL=0.614\n",
      "Iteration 1500, lr=0.00100, NLL=0.612\n",
      "Iteration 1600, lr=0.00100, NLL=0.609\n",
      "Iteration 1700, lr=0.00100, NLL=0.607\n",
      "Iteration 1800, lr=0.00100, NLL=0.606\n",
      "Iteration 1900, lr=0.00100, NLL=0.604\n",
      "Iteration 2000, lr=0.00100, NLL=0.603\n",
      "Iteration 2100, lr=0.00100, NLL=0.602\n",
      "Iteration 2200, lr=0.00100, NLL=0.602\n",
      "Iteration 2300, lr=0.00100, NLL=0.601\n",
      "Iteration 2400, lr=0.00100, NLL=0.601\n",
      "Iteration 2500, lr=0.00100, NLL=0.600\n",
      "Iteration 2600, lr=0.00100, NLL=0.600\n",
      "Iteration 2700, lr=0.00100, NLL=0.600\n",
      "Iteration 2800, lr=0.00100, NLL=0.600\n",
      "Iteration 2900, lr=0.00100, NLL=0.600\n",
      "Iteration 3000, lr=0.00100, NLL=0.600\n",
      "Iteration 3100, lr=0.00100, NLL=0.599\n",
      "Iteration 3200, lr=0.00100, NLL=0.599\n",
      "Iteration 3300, lr=0.00100, NLL=0.599\n"
     ]
    },
    {
     "data": {
      "image/png": "[encoded data removed]",
      "text/plain": [
       "<Figure size 432x288 with 1 Axes>"
      ]
     },
     "metadata": {
      "needs_background": "light"
     },
     "output_type": "display_data"
    }
   ],
   "source": [
    "from torchuq.metric.categorical import plot_calibration_bin\n",
    "from torchuq.transform.parametric import TemperatureScaling\n",
    "\n",
    "plot_calibration_bin(dataset['val_prob'], dataset['val_labels'])\n",
    "plt.show()\n",
    "\n",
    "ts_calibrator = TemperatureScaling(verbose=True)\n",
    "ts_calibrator.train(dataset['val_prob'], dataset['val_labels'])\n",
    "dataset['val_prob'] = ts_calibrator(dataset['val_prob'])\n",
    "dataset['test_prob'] = ts_calibrator(dataset['test_prob'])\n",
    "\n",
    "plot_calibration_bin(dataset['val_prob'], dataset['val_labels'])\n",
    "plt.show()"
   ]
  },
  {
   "cell_type": "code",
   "execution_count": 5,
   "id": "introductory-house",
   "metadata": {},
   "outputs": [
    {
     "name": "stdout",
     "output_type": "stream",
     "text": [
      "Step 0, time=34.5, on the val/test set acc=0.806/0.803, avg loss gap=0.0093/0.0112, gap norm=0.0124/0.0137\n",
      "Step 1, time=65.5, on the val/test set acc=0.806/0.803, avg loss gap=0.0061/0.0085, gap norm=0.0121/0.0127\n",
      "Step 2, time=96.5, on the val/test set acc=0.806/0.803, avg loss gap=0.0056/0.0083, gap norm=0.0112/0.0118\n",
      "Step 3, time=126.9, on the val/test set acc=0.806/0.804, avg loss gap=0.0050/0.0075, gap norm=0.0107/0.0103\n",
      "Step 4, time=154.2, on the val/test set acc=0.806/0.803, avg loss gap=0.0045/0.0073, gap norm=0.0090/0.0102\n",
      "Step 5, time=184.6, on the val/test set acc=0.806/0.804, avg loss gap=0.0038/0.0070, gap norm=0.0089/0.0096\n",
      "Step 6, time=214.5, on the val/test set acc=0.806/0.804, avg loss gap=0.0032/0.0061, gap norm=0.0092/0.0099\n",
      "Step 7, time=244.6, on the val/test set acc=0.807/0.805, avg loss gap=0.0027/0.0057, gap norm=0.0069/0.0093\n",
      "Step 8, time=274.2, on the val/test set acc=0.806/0.804, avg loss gap=0.0027/0.0054, gap norm=0.0056/0.0065\n",
      "Step 9, time=303.8, on the val/test set acc=0.806/0.805, avg loss gap=0.0024/0.0054, gap norm=0.0059/0.0072\n",
      "Step 10, time=334.7, on the val/test set acc=0.806/0.804, avg loss gap=0.0022/0.0055, gap norm=0.0051/0.0073\n",
      "Step 11, time=365.0, on the val/test set acc=0.806/0.804, avg loss gap=0.0019/0.0055, gap norm=0.0048/0.0068\n",
      "Step 12, time=395.1, on the val/test set acc=0.806/0.804, avg loss gap=0.0019/0.0052, gap norm=0.0056/0.0085\n",
      "Step 13, time=426.1, on the val/test set acc=0.806/0.804, avg loss gap=0.0021/0.0051, gap norm=0.0061/0.0083\n",
      "Step 14, time=457.1, on the val/test set acc=0.807/0.803, avg loss gap=0.0019/0.0052, gap norm=0.0050/0.0073\n",
      "Step 15, time=486.8, on the val/test set acc=0.807/0.804, avg loss gap=0.0016/0.0051, gap norm=0.0035/0.0064\n",
      "Step 16, time=517.8, on the val/test set acc=0.806/0.804, avg loss gap=0.0018/0.0051, gap norm=0.0052/0.0065\n",
      "Step 17, time=547.7, on the val/test set acc=0.806/0.804, avg loss gap=0.0016/0.0053, gap norm=0.0035/0.0062\n",
      "Step 18, time=563.9, on the val/test set acc=0.807/0.804, avg loss gap=0.0014/0.0052, gap norm=0.0038/0.0061\n",
      "Step 19, time=593.6, on the val/test set acc=0.807/0.803, avg loss gap=0.0013/0.0053, gap norm=0.0041/0.0078\n",
      "Step 20, time=625.2, on the val/test set acc=0.806/0.804, avg loss gap=0.0015/0.0050, gap norm=0.0030/0.0070\n",
      "Step 21, time=656.0, on the val/test set acc=0.807/0.803, avg loss gap=0.0015/0.0050, gap norm=0.0037/0.0062\n",
      "Step 22, time=685.5, on the val/test set acc=0.807/0.803, avg loss gap=0.0016/0.0049, gap norm=0.0041/0.0071\n",
      "Step 23, time=701.3, on the val/test set acc=0.806/0.803, avg loss gap=0.0014/0.0051, gap norm=0.0036/0.0073\n",
      "Step 24, time=731.0, on the val/test set acc=0.806/0.804, avg loss gap=0.0014/0.0049, gap norm=0.0031/0.0065\n",
      "Step 25, time=761.7, on the val/test set acc=0.806/0.803, avg loss gap=0.0013/0.0051, gap norm=0.0035/0.0054\n",
      "Step 26, time=791.0, on the val/test set acc=0.806/0.803, avg loss gap=0.0012/0.0053, gap norm=0.0031/0.0063\n",
      "Step 27, time=820.2, on the val/test set acc=0.806/0.803, avg loss gap=0.0013/0.0053, gap norm=0.0035/0.0074\n",
      "Step 28, time=850.9, on the val/test set acc=0.806/0.803, avg loss gap=0.0013/0.0053, gap norm=0.0038/0.0065\n",
      "Step 29, time=881.4, on the val/test set acc=0.807/0.803, avg loss gap=0.0011/0.0053, gap norm=0.0035/0.0061\n",
      "Step 30, time=911.6, on the val/test set acc=0.807/0.803, avg loss gap=0.0012/0.0052, gap norm=0.0034/0.0058\n",
      "Step 31, time=941.8, on the val/test set acc=0.807/0.803, avg loss gap=0.0011/0.0053, gap norm=0.0027/0.0067\n",
      "Step 32, time=972.0, on the val/test set acc=0.806/0.803, avg loss gap=0.0011/0.0053, gap norm=0.0033/0.0063\n",
      "Step 33, time=1005.4, on the val/test set acc=0.807/0.803, avg loss gap=0.0012/0.0052, gap norm=0.0025/0.0054\n",
      "Step 34, time=1035.0, on the val/test set acc=0.806/0.803, avg loss gap=0.0012/0.0053, gap norm=0.0029/0.0068\n",
      "Step 35, time=1065.2, on the val/test set acc=0.806/0.803, avg loss gap=0.0011/0.0052, gap norm=0.0029/0.0054\n",
      "Step 36, time=1095.2, on the val/test set acc=0.806/0.803, avg loss gap=0.0012/0.0054, gap norm=0.0031/0.0061\n",
      "Step 37, time=1126.7, on the val/test set acc=0.807/0.803, avg loss gap=0.0012/0.0053, gap norm=0.0025/0.0054\n",
      "Step 38, time=1156.7, on the val/test set acc=0.807/0.803, avg loss gap=0.0011/0.0052, gap norm=0.0024/0.0062\n",
      "Step 39, time=1187.2, on the val/test set acc=0.807/0.803, avg loss gap=0.0011/0.0053, gap norm=0.0029/0.0053\n",
      "Step 40, time=1217.7, on the val/test set acc=0.807/0.803, avg loss gap=0.0011/0.0053, gap norm=0.0030/0.0079\n",
      "Step 41, time=1250.7, on the val/test set acc=0.807/0.803, avg loss gap=0.0010/0.0053, gap norm=0.0027/0.0059\n",
      "Step 42, time=1281.2, on the val/test set acc=0.807/0.803, avg loss gap=0.0010/0.0053, gap norm=0.0032/0.0065\n",
      "Step 43, time=1311.0, on the val/test set acc=0.807/0.803, avg loss gap=0.0011/0.0054, gap norm=0.0028/0.0067\n",
      "Step 44, time=1342.2, on the val/test set acc=0.807/0.803, avg loss gap=0.0011/0.0053, gap norm=0.0025/0.0061\n",
      "Step 45, time=1373.0, on the val/test set acc=0.807/0.803, avg loss gap=0.0010/0.0053, gap norm=0.0020/0.0066\n",
      "Step 46, time=1402.7, on the val/test set acc=0.807/0.803, avg loss gap=0.0010/0.0052, gap norm=0.0024/0.0053\n",
      "Step 47, time=1432.3, on the val/test set acc=0.807/0.803, avg loss gap=0.0011/0.0054, gap norm=0.0026/0.0078\n",
      "Step 48, time=1459.0, on the val/test set acc=0.807/0.803, avg loss gap=0.0010/0.0053, gap norm=0.0020/0.0061\n",
      "Step 49, time=1489.2, on the val/test set acc=0.807/0.803, avg loss gap=0.0011/0.0052, gap norm=0.0026/0.0065\n",
      "Step 50, time=1520.7, on the val/test set acc=0.807/0.803, avg loss gap=0.0010/0.0053, gap norm=0.0024/0.0057\n",
      "Step 51, time=1551.1, on the val/test set acc=0.807/0.803, avg loss gap=0.0010/0.0052, gap norm=0.0022/0.0063\n",
      "Step 52, time=1581.1, on the val/test set acc=0.807/0.803, avg loss gap=0.0012/0.0051, gap norm=0.0020/0.0067\n",
      "Step 53, time=1611.6, on the val/test set acc=0.807/0.803, avg loss gap=0.0011/0.0051, gap norm=0.0028/0.0059\n",
      "Step 54, time=1642.0, on the val/test set acc=0.807/0.803, avg loss gap=0.0011/0.0053, gap norm=0.0030/0.0069\n",
      "Step 55, time=1672.0, on the val/test set acc=0.807/0.803, avg loss gap=0.0011/0.0054, gap norm=0.0028/0.0061\n",
      "Step 56, time=1704.4, on the val/test set acc=0.807/0.803, avg loss gap=0.0011/0.0052, gap norm=0.0025/0.0060\n",
      "Step 57, time=1736.3, on the val/test set acc=0.807/0.803, avg loss gap=0.0011/0.0052, gap norm=0.0024/0.0055\n",
      "Step 58, time=1756.1, on the val/test set acc=0.807/0.803, avg loss gap=0.0011/0.0051, gap norm=0.0019/0.0062\n",
      "Step 59, time=1786.5, on the val/test set acc=0.807/0.803, avg loss gap=0.0011/0.0051, gap norm=0.0023/0.0060\n",
      "Step 60, time=1816.8, on the val/test set acc=0.807/0.803, avg loss gap=0.0010/0.0052, gap norm=0.0020/0.0055\n",
      "Step 61, time=1851.6, on the val/test set acc=0.807/0.803, avg loss gap=0.0009/0.0052, gap norm=0.0020/0.0068\n",
      "Step 62, time=1886.0, on the val/test set acc=0.807/0.803, avg loss gap=0.0009/0.0052, gap norm=0.0026/0.0072\n",
      "Step 63, time=1918.6, on the val/test set acc=0.807/0.803, avg loss gap=0.0010/0.0052, gap norm=0.0027/0.0061\n",
      "Step 64, time=1949.1, on the val/test set acc=0.807/0.803, avg loss gap=0.0010/0.0052, gap norm=0.0023/0.0060\n",
      "Step 65, time=1979.5, on the val/test set acc=0.807/0.803, avg loss gap=0.0010/0.0053, gap norm=0.0023/0.0062\n",
      "Step 66, time=2009.9, on the val/test set acc=0.807/0.803, avg loss gap=0.0010/0.0052, gap norm=0.0022/0.0058\n",
      "Step 67, time=2043.2, on the val/test set acc=0.807/0.803, avg loss gap=0.0010/0.0053, gap norm=0.0028/0.0060\n",
      "Step 68, time=2074.0, on the val/test set acc=0.807/0.803, avg loss gap=0.0010/0.0053, gap norm=0.0028/0.0064\n",
      "Step 69, time=2103.2, on the val/test set acc=0.807/0.803, avg loss gap=0.0011/0.0052, gap norm=0.0023/0.0061\n",
      "Step 70, time=2132.8, on the val/test set acc=0.807/0.803, avg loss gap=0.0010/0.0053, gap norm=0.0023/0.0053\n",
      "Step 71, time=2163.4, on the val/test set acc=0.807/0.803, avg loss gap=0.0009/0.0054, gap norm=0.0027/0.0063\n",
      "Step 72, time=2195.7, on the val/test set acc=0.807/0.803, avg loss gap=0.0010/0.0054, gap norm=0.0018/0.0055\n",
      "Step 73, time=2225.9, on the val/test set acc=0.807/0.803, avg loss gap=0.0010/0.0053, gap norm=0.0021/0.0062\n",
      "Step 74, time=2256.0, on the val/test set acc=0.807/0.803, avg loss gap=0.0010/0.0053, gap norm=0.0022/0.0061\n",
      "Step 75, time=2285.3, on the val/test set acc=0.807/0.803, avg loss gap=0.0009/0.0054, gap norm=0.0023/0.0057\n",
      "Step 76, time=2315.7, on the val/test set acc=0.807/0.803, avg loss gap=0.0010/0.0054, gap norm=0.0019/0.0059\n",
      "Step 77, time=2346.1, on the val/test set acc=0.807/0.803, avg loss gap=0.0009/0.0054, gap norm=0.0021/0.0059\n",
      "Step 78, time=2376.4, on the val/test set acc=0.807/0.803, avg loss gap=0.0009/0.0053, gap norm=0.0021/0.0071\n",
      "Step 79, time=2406.4, on the val/test set acc=0.807/0.803, avg loss gap=0.0010/0.0052, gap norm=0.0027/0.0069\n",
      "Step 80, time=2438.3, on the val/test set acc=0.807/0.803, avg loss gap=0.0009/0.0053, gap norm=0.0027/0.0068\n",
      "Step 81, time=2469.0, on the val/test set acc=0.807/0.803, avg loss gap=0.0009/0.0054, gap norm=0.0026/0.0068\n",
      "Step 82, time=2498.8, on the val/test set acc=0.807/0.803, avg loss gap=0.0010/0.0052, gap norm=0.0025/0.0071\n",
      "Step 83, time=2528.4, on the val/test set acc=0.807/0.803, avg loss gap=0.0010/0.0053, gap norm=0.0023/0.0073\n",
      "Step 84, time=2559.2, on the val/test set acc=0.807/0.803, avg loss gap=0.0011/0.0052, gap norm=0.0023/0.0059\n",
      "Step 85, time=2589.7, on the val/test set acc=0.807/0.803, avg loss gap=0.0010/0.0052, gap norm=0.0020/0.0072\n",
      "Step 86, time=2619.5, on the val/test set acc=0.807/0.803, avg loss gap=0.0010/0.0052, gap norm=0.0024/0.0061\n",
      "Step 87, time=2649.9, on the val/test set acc=0.807/0.803, avg loss gap=0.0010/0.0053, gap norm=0.0025/0.0065\n",
      "Step 88, time=2680.3, on the val/test set acc=0.807/0.803, avg loss gap=0.0010/0.0051, gap norm=0.0021/0.0052\n",
      "Step 89, time=2710.2, on the val/test set acc=0.807/0.803, avg loss gap=0.0009/0.0052, gap norm=0.0022/0.0064\n",
      "Step 90, time=2740.7, on the val/test set acc=0.807/0.802, avg loss gap=0.0009/0.0052, gap norm=0.0021/0.0052\n",
      "Step 91, time=2770.8, on the val/test set acc=0.807/0.803, avg loss gap=0.0009/0.0053, gap norm=0.0025/0.0054\n",
      "Step 92, time=2801.7, on the val/test set acc=0.807/0.803, avg loss gap=0.0010/0.0052, gap norm=0.0023/0.0052\n",
      "Step 93, time=2832.3, on the val/test set acc=0.807/0.803, avg loss gap=0.0009/0.0053, gap norm=0.0020/0.0058\n",
      "Step 94, time=2862.8, on the val/test set acc=0.807/0.803, avg loss gap=0.0010/0.0052, gap norm=0.0027/0.0058\n",
      "Step 95, time=2892.8, on the val/test set acc=0.807/0.803, avg loss gap=0.0009/0.0054, gap norm=0.0021/0.0060\n",
      "Step 96, time=2922.6, on the val/test set acc=0.807/0.803, avg loss gap=0.0008/0.0053, gap norm=0.0019/0.0056\n",
      "Step 97, time=2954.5, on the val/test set acc=0.807/0.802, avg loss gap=0.0009/0.0053, gap norm=0.0020/0.0065\n",
      "Step 98, time=2984.4, on the val/test set acc=0.807/0.803, avg loss gap=0.0009/0.0053, gap norm=0.0021/0.0063\n",
      "Step 99, time=3018.4, on the val/test set acc=0.807/0.803, avg loss gap=0.0009/0.0052, gap norm=0.0020/0.0061\n",
      "Step 100, time=3048.3, on the val/test set acc=0.807/0.803, avg loss gap=0.0009/0.0052, gap norm=0.0020/0.0058\n",
      "Step 101, time=3079.1, on the val/test set acc=0.807/0.803, avg loss gap=0.0009/0.0053, gap norm=0.0022/0.0067\n",
      "Step 102, time=3108.8, on the val/test set acc=0.807/0.803, avg loss gap=0.0009/0.0053, gap norm=0.0022/0.0055\n",
      "Step 103, time=3139.7, on the val/test set acc=0.807/0.803, avg loss gap=0.0009/0.0052, gap norm=0.0021/0.0055\n",
      "Step 104, time=3169.8, on the val/test set acc=0.807/0.803, avg loss gap=0.0009/0.0052, gap norm=0.0023/0.0059\n",
      "Step 105, time=3201.1, on the val/test set acc=0.807/0.803, avg loss gap=0.0009/0.0053, gap norm=0.0021/0.0058\n",
      "Step 106, time=3232.0, on the val/test set acc=0.807/0.803, avg loss gap=0.0009/0.0053, gap norm=0.0024/0.0060\n",
      "Step 107, time=3264.0, on the val/test set acc=0.807/0.803, avg loss gap=0.0009/0.0053, gap norm=0.0025/0.0064\n",
      "Step 108, time=3293.6, on the val/test set acc=0.807/0.803, avg loss gap=0.0009/0.0053, gap norm=0.0023/0.0070\n",
      "Step 109, time=3323.5, on the val/test set acc=0.807/0.803, avg loss gap=0.0009/0.0052, gap norm=0.0017/0.0058\n",
      "Step 110, time=3355.0, on the val/test set acc=0.807/0.803, avg loss gap=0.0010/0.0053, gap norm=0.0019/0.0054\n",
      "Step 111, time=3386.3, on the val/test set acc=0.807/0.803, avg loss gap=0.0009/0.0052, gap norm=0.0018/0.0071\n",
      "Step 112, time=3416.1, on the val/test set acc=0.807/0.803, avg loss gap=0.0010/0.0051, gap norm=0.0022/0.0061\n",
      "Step 113, time=3446.4, on the val/test set acc=0.807/0.803, avg loss gap=0.0009/0.0053, gap norm=0.0019/0.0067\n",
      "Step 114, time=3475.8, on the val/test set acc=0.807/0.803, avg loss gap=0.0010/0.0052, gap norm=0.0016/0.0051\n",
      "Step 115, time=3507.9, on the val/test set acc=0.807/0.803, avg loss gap=0.0009/0.0053, gap norm=0.0021/0.0062\n",
      "Step 116, time=3530.4, on the val/test set acc=0.807/0.803, avg loss gap=0.0009/0.0054, gap norm=0.0021/0.0064\n",
      "Step 117, time=3559.8, on the val/test set acc=0.807/0.803, avg loss gap=0.0009/0.0054, gap norm=0.0021/0.0067\n",
      "Step 118, time=3591.0, on the val/test set acc=0.807/0.803, avg loss gap=0.0008/0.0053, gap norm=0.0022/0.0070\n",
      "Step 119, time=3621.9, on the val/test set acc=0.807/0.803, avg loss gap=0.0008/0.0054, gap norm=0.0022/0.0059\n",
      "Step 120, time=3653.4, on the val/test set acc=0.807/0.803, avg loss gap=0.0009/0.0052, gap norm=0.0022/0.0049\n",
      "Step 121, time=3685.9, on the val/test set acc=0.807/0.803, avg loss gap=0.0009/0.0054, gap norm=0.0020/0.0060\n",
      "Step 122, time=3716.4, on the val/test set acc=0.807/0.803, avg loss gap=0.0010/0.0052, gap norm=0.0022/0.0061\n",
      "Step 123, time=3746.8, on the val/test set acc=0.807/0.803, avg loss gap=0.0009/0.0053, gap norm=0.0019/0.0061\n",
      "Step 124, time=3777.4, on the val/test set acc=0.807/0.803, avg loss gap=0.0009/0.0052, gap norm=0.0021/0.0054\n",
      "Step 125, time=3808.0, on the val/test set acc=0.807/0.803, avg loss gap=0.0009/0.0053, gap norm=0.0017/0.0058\n",
      "Step 126, time=3842.1, on the val/test set acc=0.807/0.803, avg loss gap=0.0009/0.0052, gap norm=0.0023/0.0066\n",
      "Step 127, time=3875.4, on the val/test set acc=0.807/0.803, avg loss gap=0.0009/0.0054, gap norm=0.0020/0.0063\n",
      "Step 128, time=3906.3, on the val/test set acc=0.807/0.803, avg loss gap=0.0008/0.0053, gap norm=0.0019/0.0058\n",
      "Step 129, time=3937.4, on the val/test set acc=0.807/0.803, avg loss gap=0.0008/0.0054, gap norm=0.0020/0.0061\n",
      "Step 130, time=3967.9, on the val/test set acc=0.807/0.803, avg loss gap=0.0008/0.0055, gap norm=0.0021/0.0068\n",
      "Step 131, time=3998.7, on the val/test set acc=0.807/0.803, avg loss gap=0.0009/0.0053, gap norm=0.0022/0.0058\n",
      "Step 132, time=4028.5, on the val/test set acc=0.807/0.803, avg loss gap=0.0008/0.0054, gap norm=0.0023/0.0050\n",
      "Step 133, time=4058.6, on the val/test set acc=0.807/0.804, avg loss gap=0.0008/0.0054, gap norm=0.0018/0.0063\n",
      "Step 134, time=4087.6, on the val/test set acc=0.807/0.804, avg loss gap=0.0008/0.0054, gap norm=0.0019/0.0056\n",
      "Step 135, time=4117.3, on the val/test set acc=0.807/0.804, avg loss gap=0.0009/0.0054, gap norm=0.0021/0.0060\n",
      "Step 136, time=4149.3, on the val/test set acc=0.808/0.803, avg loss gap=0.0009/0.0054, gap norm=0.0021/0.0072\n",
      "Step 137, time=4179.2, on the val/test set acc=0.807/0.804, avg loss gap=0.0009/0.0053, gap norm=0.0020/0.0068\n",
      "Step 138, time=4209.7, on the val/test set acc=0.807/0.804, avg loss gap=0.0008/0.0053, gap norm=0.0020/0.0056\n",
      "Step 139, time=4239.2, on the val/test set acc=0.808/0.804, avg loss gap=0.0008/0.0053, gap norm=0.0021/0.0075\n",
      "Step 140, time=4270.1, on the val/test set acc=0.808/0.804, avg loss gap=0.0008/0.0054, gap norm=0.0021/0.0066\n",
      "Step 141, time=4301.2, on the val/test set acc=0.807/0.803, avg loss gap=0.0008/0.0054, gap norm=0.0024/0.0064\n",
      "Step 142, time=4331.6, on the val/test set acc=0.808/0.804, avg loss gap=0.0009/0.0053, gap norm=0.0021/0.0069\n",
      "Step 143, time=4361.6, on the val/test set acc=0.808/0.804, avg loss gap=0.0009/0.0052, gap norm=0.0022/0.0053\n",
      "Step 144, time=4391.6, on the val/test set acc=0.808/0.804, avg loss gap=0.0008/0.0053, gap norm=0.0019/0.0056\n",
      "Step 145, time=4421.5, on the val/test set acc=0.808/0.804, avg loss gap=0.0008/0.0054, gap norm=0.0017/0.0059\n",
      "Step 146, time=4454.3, on the val/test set acc=0.807/0.803, avg loss gap=0.0008/0.0055, gap norm=0.0016/0.0065\n",
      "Step 147, time=4484.8, on the val/test set acc=0.807/0.804, avg loss gap=0.0008/0.0054, gap norm=0.0015/0.0058\n",
      "Step 148, time=4514.5, on the val/test set acc=0.807/0.804, avg loss gap=0.0008/0.0055, gap norm=0.0020/0.0056\n",
      "Step 149, time=4549.0, on the val/test set acc=0.807/0.803, avg loss gap=0.0008/0.0055, gap norm=0.0022/0.0059\n"
     ]
    }
   ],
   "source": [
    "from torchuq.transform.decision import CalibratorDecision\n",
    "\n",
    "# You should expect to see a big improvement for inception-v3, small improvement for resnet-18 and almost no improvement for densenet-121 (which is already almost perfectly decision calibrated out of the box)\n",
    "calibrator = CalibratorDecision(verbose=True)\n",
    "record = calibrator.train(dataset['val_prob'], dataset['val_labels'], calib_steps=args.calib_steps, \n",
    "                 num_action=args.num_action, num_critic_epoch=args.num_epoch, \n",
    "                 test_predictions=dataset['test_prob'], test_labels=dataset['test_labels'])"
   ]
  },
  {
   "cell_type": "code",
   "execution_count": 6,
   "id": "handy-worthy",
   "metadata": {},
   "outputs": [
    {
     "data": {
      "image/png": "[encoded data removed]",
      "text/plain": [
       "<Figure size 432x288 with 1 Axes>"
      ]
     },
     "metadata": {
      "needs_background": "light"
     },
     "output_type": "display_data"
    }
   ],
   "source": [
    "# Plot the performance \n",
    "iterations, value = record.get_scalar('gap_max_test')\n",
    "plt.plot(iterations, value, c='C0')\n",
    "iterations, value = record.get_scalar('gap_max_train')\n",
    "plt.plot(iterations, value, c='C1')\n",
    "plt.show()"
   ]
  },
  {
   "cell_type": "code",
   "execution_count": null,
   "id": "first-frederick",
   "metadata": {},
   "outputs": [],
   "source": []
  }
 ],
 "metadata": {
  "kernelspec": {
   "display_name": "Python 3",
   "language": "python",
   "name": "python3"
  },
  "language_info": {
   "codemirror_mode": {
    "name": "ipython",
    "version": 3
   },
   "file_extension": ".py",
   "mimetype": "text/x-python",
   "name": "python",
   "nbconvert_exporter": "python",
   "pygments_lexer": "ipython3",
   "version": "3.8.3"
  }
 },
 "nbformat": 4,
 "nbformat_minor": 5
}
