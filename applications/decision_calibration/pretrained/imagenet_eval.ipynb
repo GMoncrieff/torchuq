{
 "cells": [
  {
   "cell_type": "code",
   "execution_count": 1,
   "metadata": {},
   "outputs": [],
   "source": [
    "import torch\n",
    "import torch.nn as nn\n",
    "import torch.nn.functional as F\n",
    "import torch.optim as optim\n",
    "from torch.optim import lr_scheduler\n",
    "import numpy as np\n",
    "import torchvision\n",
    "from torchvision import datasets, models, transforms\n",
    "import matplotlib.pyplot as plt\n",
    "import time\n",
    "import os\n",
    "import copy\n",
    "\n",
    "plt.ion()   # interactive mode\n",
    "device = torch.device('cuda:0')"
   ]
  },
  {
   "cell_type": "code",
   "execution_count": 2,
   "metadata": {},
   "outputs": [],
   "source": [
    "import torchvision.transforms as transforms\n",
    "import torchvision.datasets as datasets\n",
    "import os\n",
    "import torch\n",
    "\n",
    "def normalize_transform():\n",
    "    return transforms.Normalize(mean=[0.485, 0.456, 0.406],\n",
    "                                std=[0.229, 0.224, 0.225])\n",
    "\n",
    "def val_dataset(data_dir):\n",
    "    val_dir = os.path.join(data_dir, 'val')\n",
    "    \n",
    "    val_transforms = transforms.Compose([\n",
    "        transforms.Resize(256),\n",
    "        transforms.CenterCrop(224),\n",
    "        transforms.ToTensor(),\n",
    "        normalize_transform()\n",
    "    ])\n",
    "    \n",
    "    val_dataset = datasets.ImageFolder(\n",
    "        val_dir,\n",
    "        val_transforms\n",
    "    )\n",
    "    \n",
    "    return val_dataset"
   ]
  },
  {
   "cell_type": "code",
   "execution_count": 5,
   "metadata": {},
   "outputs": [],
   "source": [
    "data_dir = '../../../../data/imagenet/'   # Change this to the directory of your imagenet dataset\n",
    "val_ds = val_dataset(data_dir) \n",
    "val_loader = torch.utils.data.DataLoader(val_ds, batch_size=16, shuffle=True, num_workers=4) "
   ]
  },
  {
   "cell_type": "code",
   "execution_count": 8,
   "metadata": {},
   "outputs": [],
   "source": [
    "model_ft = models.inception_v3(pretrained=True).to(device)   # Use any pretrained NN from pytorch\n",
    "model_ft.eval();"
   ]
  },
  {
   "cell_type": "code",
   "execution_count": 9,
   "metadata": {},
   "outputs": [
    {
     "name": "stdout",
     "output_type": "stream",
     "text": [
      "Iteration 99, accuracy=0.699\n",
      "Iteration 199, accuracy=0.691\n",
      "Iteration 299, accuracy=0.692\n",
      "Iteration 399, accuracy=0.692\n",
      "Iteration 499, accuracy=0.691\n",
      "Iteration 599, accuracy=0.691\n",
      "Iteration 699, accuracy=0.692\n",
      "Iteration 799, accuracy=0.694\n",
      "Iteration 899, accuracy=0.692\n",
      "Iteration 999, accuracy=0.694\n",
      "Iteration 1099, accuracy=0.695\n",
      "Iteration 1199, accuracy=0.695\n",
      "Iteration 1299, accuracy=0.696\n",
      "Iteration 1399, accuracy=0.695\n",
      "Iteration 1499, accuracy=0.697\n",
      "Iteration 1599, accuracy=0.697\n",
      "Iteration 1699, accuracy=0.698\n",
      "Iteration 1799, accuracy=0.697\n",
      "Iteration 1899, accuracy=0.698\n",
      "Iteration 1999, accuracy=0.697\n",
      "Iteration 2099, accuracy=0.696\n",
      "Iteration 2199, accuracy=0.696\n",
      "Iteration 2299, accuracy=0.696\n",
      "Iteration 2399, accuracy=0.695\n",
      "Iteration 2499, accuracy=0.695\n",
      "Iteration 2599, accuracy=0.696\n",
      "Iteration 2699, accuracy=0.696\n",
      "Iteration 2799, accuracy=0.696\n",
      "Iteration 2899, accuracy=0.695\n",
      "Iteration 2999, accuracy=0.696\n",
      "Iteration 3099, accuracy=0.695\n"
     ]
    }
   ],
   "source": [
    "correct = 0\n",
    "\n",
    "confs = []\n",
    "labels = []\n",
    "\n",
    "with torch.no_grad():\n",
    "    for i, (image, target) in enumerate(val_loader):\n",
    "        image, target = image.to(device), target.to(device)\n",
    "        pred = model_ft(image)\n",
    "        conf = F.softmax(pred, dim=1)\n",
    "        confs.append(conf)\n",
    "        labels.append(target)\n",
    "        correct += (torch.argmax(conf, dim=1) == target).type(torch.float).sum()\n",
    "        if (i+1) % 100 == 0:\n",
    "            print(\"Iteration %d, accuracy=%.3f\" % (i, correct.cpu().item()/(i+1)/16.))"
   ]
  },
  {
   "cell_type": "code",
   "execution_count": 10,
   "metadata": {},
   "outputs": [],
   "source": [
    "confs = torch.cat(confs).cpu()\n",
    "labels = torch.cat(labels).cpu()"
   ]
  },
  {
   "cell_type": "code",
   "execution_count": 11,
   "metadata": {},
   "outputs": [],
   "source": [
    "results = {'val_labels': labels[:40000].cpu(), 'val_prob': confs[:40000].cpu(), \n",
    "           'test_labels': labels[40000:].cpu(), 'test_prob': confs[40000:].cpu()}\n",
    "torch.save(results, 'imagenet/inception_v3.pt')   # Name this with the correct architecture name"
   ]
  },
  {
   "cell_type": "code",
   "execution_count": null,
   "metadata": {},
   "outputs": [],
   "source": []
  }
 ],
 "metadata": {
  "kernelspec": {
   "display_name": "Python 3",
   "language": "python",
   "name": "python3"
  },
  "language_info": {
   "codemirror_mode": {
    "name": "ipython",
    "version": 3
   },
   "file_extension": ".py",
   "mimetype": "text/x-python",
   "name": "python",
   "nbconvert_exporter": "python",
   "pygments_lexer": "ipython3",
   "version": "3.8.3"
  }
 },
 "nbformat": 4,
 "nbformat_minor": 4
}
