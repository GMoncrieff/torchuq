{
 "cells": [
  {
   "cell_type": "code",
   "execution_count": null,
   "id": "residential-yugoslavia",
   "metadata": {
    "tags": [
     "parameters"
    ]
   },
   "outputs": [],
   "source": []
  },
  {
   "cell_type": "code",
   "execution_count": 1,
   "id": "prospective-coordination",
   "metadata": {},
   "outputs": [],
   "source": [
    "%matplotlib inline\n",
    "# python libraties\n",
    "import os, cv2,itertools\n",
    "import matplotlib.pyplot as plt\n",
    "import numpy as np\n",
    "import pandas as pd\n",
    "from tqdm import tqdm\n",
    "from glob import glob\n",
    "from PIL import Image\n",
    "\n",
    "# pytorch libraries\n",
    "import torch\n",
    "from torch import optim,nn\n",
    "from torch.autograd import Variable\n",
    "from torch.utils.data import DataLoader,Dataset\n",
    "from torchvision import models,transforms\n",
    "\n",
    "# sklearn libraries\n",
    "from sklearn.metrics import confusion_matrix\n",
    "from sklearn.model_selection import train_test_split\n",
    "from sklearn.metrics import classification_report\n",
    "\n",
    "# to make the results are reproducible\n",
    "np.random.seed(10)\n",
    "torch.manual_seed(10)\n",
    "torch.cuda.manual_seed(10)"
   ]
  },
  {
   "cell_type": "code",
   "execution_count": 6,
   "id": "present-acrobat",
   "metadata": {},
   "outputs": [],
   "source": [
    "device = torch.device('cuda:3')"
   ]
  },
  {
   "cell_type": "code",
   "execution_count": 3,
   "id": "veterinary-turtle",
   "metadata": {},
   "outputs": [],
   "source": [
    "import sys\n",
    "sys.path.append('../../../')   # Include the path to torchuq in case it's not yet installed\n",
    "from torchuq.dataset.ham import get_ham10000"
   ]
  },
  {
   "cell_type": "code",
   "execution_count": 4,
   "id": "mysterious-shannon",
   "metadata": {},
   "outputs": [
    {
     "name": "stdout",
     "output_type": "stream",
     "text": [
      "Found 10015 images in the data directory\n",
      "4501 images have duplicates, and 5514 images do not\n",
      "Size of train/val/test splits = 7010/3005/0\n",
      "------------------- Value counts on train ------------------- \n",
      "melanoma                          4940\n",
      "Dermatofibroma                    4700\n",
      "Melanocytic nevi                  4299\n",
      "Benign keratosis-like lesions     4295\n",
      "Vascular lesions                  4280\n",
      "Basal cell carcinoma              4180\n",
      "Actinic keratoses                 3675\n",
      "Name: cell_type, dtype: int64\n",
      "------------------- Value counts on val ------------------- \n",
      "Melanocytic nevi                  2406\n",
      "Benign keratosis-like lesions      240\n",
      "melanoma                           125\n",
      "Basal cell carcinoma                96\n",
      "Actinic keratoses                   82\n",
      "Vascular lesions                    35\n",
      "Dermatofibroma                      21\n",
      "Name: cell_type, dtype: int64\n"
     ]
    }
   ],
   "source": [
    "train_dataset, val_dataset, test_dataset = get_ham10000('/atlas/u/shengjia/data/HAM10000/HAM10000', val_fraction=0.3, test_fraction=0.0, maybe_download=False)\n",
    "train_loader = DataLoader(train_dataset, batch_size=32, shuffle=True, num_workers=4)\n",
    "val_loader = DataLoader(val_dataset, batch_size=32, shuffle=False, num_workers=4)"
   ]
  },
  {
   "cell_type": "raw",
   "id": "starting-opening",
   "metadata": {},
   "source": [
    "# Visualize some training images\n",
    "data = train_dataset[2][0].permute(1, 2, 0) # - 1\n",
    "norm_mean = [0.7630365, 0.5456421, 0.5700475]\n",
    "norm_std = [0.140928, 0.1526134, 0.16997088]\n",
    "plt.imshow(data)\n",
    "plt.show()"
   ]
  },
  {
   "cell_type": "code",
   "execution_count": 7,
   "id": "tender-restoration",
   "metadata": {},
   "outputs": [],
   "source": [
    "# Get a pretrained network but replace the last layer\n",
    "model_ft = models.densenet121(pretrained=True)\n",
    "num_classes = 7\n",
    "num_ftrs = model_ft.classifier.in_features\n",
    "model_ft.classifier = nn.Linear(num_ftrs, num_classes)\n",
    "model = model_ft.to(device)"
   ]
  },
  {
   "cell_type": "code",
   "execution_count": 8,
   "id": "mental-stewart",
   "metadata": {},
   "outputs": [],
   "source": [
    "# we use Adam optimizer, use cross entropy loss as our loss function\n",
    "optimizer = optim.Adam(model.parameters(), lr=1e-3)\n",
    "criterion = nn.CrossEntropyLoss().to(device)"
   ]
  },
  {
   "cell_type": "code",
   "execution_count": 9,
   "id": "portuguese-butterfly",
   "metadata": {},
   "outputs": [],
   "source": [
    "# this function is used during training process, to calculation the loss and accuracy\n",
    "class AverageMeter(object):\n",
    "    def __init__(self):\n",
    "        self.reset()\n",
    "\n",
    "    def reset(self):\n",
    "        self.val = 0\n",
    "        self.avg = 0\n",
    "        self.sum = 0\n",
    "        self.count = 0\n",
    "\n",
    "    def update(self, val, n=1):\n",
    "        self.val = val\n",
    "        self.sum += val * n\n",
    "        self.count += n\n",
    "        self.avg = self.sum / self.count"
   ]
  },
  {
   "cell_type": "code",
   "execution_count": 10,
   "id": "integral-egypt",
   "metadata": {},
   "outputs": [],
   "source": [
    "total_loss_train, total_acc_train = [],[]\n",
    "def train(train_loader, model, criterion, optimizer, epoch):\n",
    "    model.train()\n",
    "    train_loss = AverageMeter()\n",
    "    train_acc = AverageMeter()\n",
    "    curr_iter = (epoch - 1) * len(train_loader)\n",
    "    for i, data in enumerate(train_loader):\n",
    "        images, labels = data\n",
    "        N = images.size(0)\n",
    "        # print('image shape:',images.size(0), 'label shape',labels.size(0))\n",
    "        images = Variable(images).to(device)\n",
    "        labels = Variable(labels).to(device)\n",
    "\n",
    "        optimizer.zero_grad()\n",
    "        outputs = model(images)\n",
    "\n",
    "        loss = criterion(outputs, labels)\n",
    "        loss.backward()\n",
    "        optimizer.step()\n",
    "        prediction = outputs.max(1, keepdim=True)[1]\n",
    "        train_acc.update(prediction.eq(labels.view_as(prediction)).sum().item()/N)\n",
    "        train_loss.update(loss.item())\n",
    "        curr_iter += 1\n",
    "        if (i + 1) % 100 == 0:\n",
    "            print('[epoch %d], [iter %d / %d], [train loss %.5f], [train acc %.5f]' % (\n",
    "                epoch, i + 1, len(train_loader), train_loss.avg, train_acc.avg))\n",
    "            total_loss_train.append(train_loss.avg)\n",
    "            total_acc_train.append(train_acc.avg)\n",
    "    return train_loss.avg, train_acc.avg"
   ]
  },
  {
   "cell_type": "code",
   "execution_count": 11,
   "id": "operating-democracy",
   "metadata": {},
   "outputs": [],
   "source": [
    "def validate(val_loader, model, criterion, optimizer, epoch):\n",
    "    model.eval()\n",
    "    val_loss = AverageMeter()\n",
    "    val_acc = AverageMeter()\n",
    "    with torch.no_grad():\n",
    "        for i, data in enumerate(val_loader):\n",
    "            images, labels = data\n",
    "            N = images.size(0)\n",
    "            images = Variable(images).to(device)\n",
    "            labels = Variable(labels).to(device)\n",
    "\n",
    "            outputs = model(images)\n",
    "            prediction = outputs.max(1, keepdim=True)[1]\n",
    "\n",
    "            val_acc.update(prediction.eq(labels.view_as(prediction)).sum().item()/N)\n",
    "\n",
    "            val_loss.update(criterion(outputs, labels).item())\n",
    "\n",
    "    print('------------------------------------------------------------')\n",
    "    print('[epoch %d], [val loss %.5f], [val acc %.5f]' % (epoch, val_loss.avg, val_acc.avg))\n",
    "    print('------------------------------------------------------------')\n",
    "    return val_loss.avg, val_acc.avg"
   ]
  },
  {
   "cell_type": "code",
   "execution_count": 12,
   "id": "extraordinary-collector",
   "metadata": {},
   "outputs": [
    {
     "name": "stdout",
     "output_type": "stream",
     "text": [
      "[epoch 1], [iter 100 / 950], [train loss 1.24324], [train acc 0.54187]\n",
      "[epoch 1], [iter 200 / 950], [train loss 1.13621], [train acc 0.57953]\n",
      "[epoch 1], [iter 300 / 950], [train loss 1.03737], [train acc 0.61656]\n",
      "[epoch 1], [iter 400 / 950], [train loss 0.98170], [train acc 0.63555]\n",
      "[epoch 1], [iter 500 / 950], [train loss 0.94355], [train acc 0.64956]\n",
      "[epoch 1], [iter 600 / 950], [train loss 0.90657], [train acc 0.66349]\n",
      "[epoch 1], [iter 700 / 950], [train loss 0.87884], [train acc 0.67188]\n",
      "[epoch 1], [iter 800 / 950], [train loss 0.85058], [train acc 0.68125]\n",
      "[epoch 1], [iter 900 / 950], [train loss 0.82704], [train acc 0.69035]\n",
      "------------------------------------------------------------\n",
      "[epoch 1], [val loss 0.72395], [val acc 0.77861]\n",
      "------------------------------------------------------------\n",
      "*****************************************************\n",
      "best record: [epoch 1], [val loss 0.72395], [val acc 0.77861]\n",
      "*****************************************************\n",
      "[epoch 2], [iter 100 / 950], [train loss 0.62407], [train acc 0.76594]\n",
      "[epoch 2], [iter 200 / 950], [train loss 0.61008], [train acc 0.77063]\n",
      "[epoch 2], [iter 300 / 950], [train loss 0.60242], [train acc 0.77010]\n",
      "[epoch 2], [iter 400 / 950], [train loss 0.59119], [train acc 0.77531]\n",
      "[epoch 2], [iter 500 / 950], [train loss 0.58361], [train acc 0.77681]\n",
      "[epoch 2], [iter 600 / 950], [train loss 0.57623], [train acc 0.77943]\n",
      "[epoch 2], [iter 700 / 950], [train loss 0.56892], [train acc 0.78085]\n",
      "[epoch 2], [iter 800 / 950], [train loss 0.56157], [train acc 0.78434]\n",
      "[epoch 2], [iter 900 / 950], [train loss 0.56035], [train acc 0.78524]\n",
      "------------------------------------------------------------\n",
      "[epoch 2], [val loss 0.36571], [val acc 0.86818]\n",
      "------------------------------------------------------------\n",
      "*****************************************************\n",
      "best record: [epoch 2], [val loss 0.36571], [val acc 0.86818]\n",
      "*****************************************************\n",
      "[epoch 3], [iter 100 / 950], [train loss 0.48998], [train acc 0.82125]\n",
      "[epoch 3], [iter 200 / 950], [train loss 0.45300], [train acc 0.82828]\n",
      "[epoch 3], [iter 300 / 950], [train loss 0.45579], [train acc 0.82677]\n",
      "[epoch 3], [iter 400 / 950], [train loss 0.45748], [train acc 0.82711]\n",
      "[epoch 3], [iter 500 / 950], [train loss 0.45430], [train acc 0.82806]\n",
      "[epoch 3], [iter 600 / 950], [train loss 0.45182], [train acc 0.82896]\n",
      "[epoch 3], [iter 700 / 950], [train loss 0.44990], [train acc 0.82964]\n",
      "[epoch 3], [iter 800 / 950], [train loss 0.44754], [train acc 0.83000]\n",
      "[epoch 3], [iter 900 / 950], [train loss 0.43928], [train acc 0.83257]\n",
      "------------------------------------------------------------\n",
      "[epoch 3], [val loss 0.45740], [val acc 0.84394]\n",
      "------------------------------------------------------------\n",
      "[epoch 4], [iter 100 / 950], [train loss 0.43150], [train acc 0.84250]\n",
      "[epoch 4], [iter 200 / 950], [train loss 0.39439], [train acc 0.85406]\n",
      "[epoch 4], [iter 300 / 950], [train loss 0.37743], [train acc 0.85969]\n",
      "[epoch 4], [iter 400 / 950], [train loss 0.37613], [train acc 0.85797]\n",
      "[epoch 4], [iter 500 / 950], [train loss 0.38369], [train acc 0.85406]\n",
      "[epoch 4], [iter 600 / 950], [train loss 0.38282], [train acc 0.85516]\n",
      "[epoch 4], [iter 700 / 950], [train loss 0.37901], [train acc 0.85692]\n",
      "[epoch 4], [iter 800 / 950], [train loss 0.37538], [train acc 0.85781]\n",
      "[epoch 4], [iter 900 / 950], [train loss 0.37395], [train acc 0.85861]\n",
      "------------------------------------------------------------\n",
      "[epoch 4], [val loss 0.47439], [val acc 0.84092]\n",
      "------------------------------------------------------------\n",
      "[epoch 5], [iter 100 / 950], [train loss 0.35605], [train acc 0.86594]\n",
      "[epoch 5], [iter 200 / 950], [train loss 0.33475], [train acc 0.87531]\n",
      "[epoch 5], [iter 300 / 950], [train loss 0.33496], [train acc 0.87615]\n",
      "[epoch 5], [iter 400 / 950], [train loss 0.33974], [train acc 0.87367]\n",
      "[epoch 5], [iter 500 / 950], [train loss 0.33193], [train acc 0.87500]\n",
      "[epoch 5], [iter 600 / 950], [train loss 0.32496], [train acc 0.87839]\n",
      "[epoch 5], [iter 700 / 950], [train loss 0.32131], [train acc 0.87853]\n",
      "[epoch 5], [iter 800 / 950], [train loss 0.32053], [train acc 0.87883]\n",
      "[epoch 5], [iter 900 / 950], [train loss 0.31814], [train acc 0.88014]\n",
      "------------------------------------------------------------\n",
      "[epoch 5], [val loss 0.63620], [val acc 0.82433]\n",
      "------------------------------------------------------------\n",
      "[epoch 6], [iter 100 / 950], [train loss 0.34497], [train acc 0.86531]\n",
      "[epoch 6], [iter 200 / 950], [train loss 0.31174], [train acc 0.87984]\n",
      "[epoch 6], [iter 300 / 950], [train loss 0.29629], [train acc 0.88583]\n",
      "[epoch 6], [iter 400 / 950], [train loss 0.29218], [train acc 0.88875]\n",
      "[epoch 6], [iter 500 / 950], [train loss 0.28587], [train acc 0.89163]\n",
      "[epoch 6], [iter 600 / 950], [train loss 0.27726], [train acc 0.89536]\n",
      "[epoch 6], [iter 700 / 950], [train loss 0.27288], [train acc 0.89580]\n",
      "[epoch 6], [iter 800 / 950], [train loss 0.27167], [train acc 0.89687]\n",
      "[epoch 6], [iter 900 / 950], [train loss 0.27269], [train acc 0.89660]\n",
      "------------------------------------------------------------\n",
      "[epoch 6], [val loss 0.45400], [val acc 0.85994]\n",
      "------------------------------------------------------------\n",
      "[epoch 7], [iter 100 / 950], [train loss 0.22193], [train acc 0.91094]\n",
      "[epoch 7], [iter 200 / 950], [train loss 0.22315], [train acc 0.91094]\n",
      "[epoch 7], [iter 300 / 950], [train loss 0.23113], [train acc 0.90969]\n",
      "[epoch 7], [iter 400 / 950], [train loss 0.23773], [train acc 0.90836]\n",
      "[epoch 7], [iter 500 / 950], [train loss 0.23797], [train acc 0.90875]\n",
      "[epoch 7], [iter 600 / 950], [train loss 0.24257], [train acc 0.90620]\n",
      "[epoch 7], [iter 700 / 950], [train loss 0.24284], [train acc 0.90616]\n",
      "[epoch 7], [iter 800 / 950], [train loss 0.23826], [train acc 0.90789]\n",
      "[epoch 7], [iter 900 / 950], [train loss 0.23952], [train acc 0.90812]\n",
      "------------------------------------------------------------\n",
      "[epoch 7], [val loss 0.49681], [val acc 0.84527]\n",
      "------------------------------------------------------------\n",
      "[epoch 8], [iter 100 / 950], [train loss 0.25170], [train acc 0.90656]\n",
      "[epoch 8], [iter 200 / 950], [train loss 0.25978], [train acc 0.90328]\n",
      "[epoch 8], [iter 300 / 950], [train loss 0.27932], [train acc 0.89615]\n",
      "[epoch 8], [iter 400 / 950], [train loss 0.27710], [train acc 0.89773]\n",
      "[epoch 8], [iter 500 / 950], [train loss 0.26727], [train acc 0.90069]\n",
      "[epoch 8], [iter 600 / 950], [train loss 0.25692], [train acc 0.90411]\n",
      "[epoch 8], [iter 700 / 950], [train loss 0.24808], [train acc 0.90696]\n",
      "[epoch 8], [iter 800 / 950], [train loss 0.24153], [train acc 0.90980]\n",
      "[epoch 8], [iter 900 / 950], [train loss 0.23985], [train acc 0.91035]\n",
      "------------------------------------------------------------\n",
      "[epoch 8], [val loss 0.47871], [val acc 0.87423]\n",
      "------------------------------------------------------------\n",
      "*****************************************************\n",
      "best record: [epoch 8], [val loss 0.47871], [val acc 0.87423]\n",
      "*****************************************************\n",
      "[epoch 9], [iter 100 / 950], [train loss 0.22785], [train acc 0.91531]\n",
      "[epoch 9], [iter 200 / 950], [train loss 0.21239], [train acc 0.92250]\n",
      "[epoch 9], [iter 300 / 950], [train loss 0.19745], [train acc 0.92698]\n",
      "[epoch 9], [iter 400 / 950], [train loss 0.20243], [train acc 0.92336]\n",
      "[epoch 9], [iter 500 / 950], [train loss 0.20396], [train acc 0.92344]\n",
      "[epoch 9], [iter 600 / 950], [train loss 0.20512], [train acc 0.92224]\n",
      "[epoch 9], [iter 700 / 950], [train loss 0.20357], [train acc 0.92353]\n",
      "[epoch 9], [iter 800 / 950], [train loss 0.19972], [train acc 0.92551]\n",
      "[epoch 9], [iter 900 / 950], [train loss 0.19675], [train acc 0.92653]\n",
      "------------------------------------------------------------\n",
      "[epoch 9], [val loss 0.46578], [val acc 0.88092]\n",
      "------------------------------------------------------------\n",
      "*****************************************************\n",
      "best record: [epoch 9], [val loss 0.46578], [val acc 0.88092]\n",
      "*****************************************************\n",
      "[epoch 10], [iter 100 / 950], [train loss 0.16566], [train acc 0.93656]\n",
      "[epoch 10], [iter 200 / 950], [train loss 0.16716], [train acc 0.93688]\n",
      "[epoch 10], [iter 300 / 950], [train loss 0.17109], [train acc 0.93573]\n",
      "[epoch 10], [iter 400 / 950], [train loss 0.17684], [train acc 0.93461]\n",
      "[epoch 10], [iter 500 / 950], [train loss 0.17805], [train acc 0.93300]\n",
      "[epoch 10], [iter 600 / 950], [train loss 0.17739], [train acc 0.93286]\n",
      "[epoch 10], [iter 700 / 950], [train loss 0.17794], [train acc 0.93295]\n",
      "[epoch 10], [iter 800 / 950], [train loss 0.17607], [train acc 0.93340]\n",
      "[epoch 10], [iter 900 / 950], [train loss 0.17568], [train acc 0.93354]\n",
      "------------------------------------------------------------\n",
      "[epoch 10], [val loss 0.46172], [val acc 0.88158]\n",
      "------------------------------------------------------------\n",
      "*****************************************************\n",
      "best record: [epoch 10], [val loss 0.46172], [val acc 0.88158]\n",
      "*****************************************************\n"
     ]
    }
   ],
   "source": [
    "epoch_num = 10\n",
    "best_val_acc = 0\n",
    "total_loss_val, total_acc_val = [],[]\n",
    "for epoch in range(1, epoch_num+1):\n",
    "    loss_train, acc_train = train(train_loader, model, criterion, optimizer, epoch)\n",
    "    loss_val, acc_val = validate(val_loader, model, criterion, optimizer, epoch)\n",
    "    total_loss_val.append(loss_val)\n",
    "    total_acc_val.append(acc_val)\n",
    "    if acc_val > best_val_acc:\n",
    "        best_val_acc = acc_val\n",
    "        print('*****************************************************')\n",
    "        print('best record: [epoch %d], [val loss %.5f], [val acc %.5f]' % (epoch, loss_val, acc_val))\n",
    "        print('*****************************************************')"
   ]
  },
  {
   "cell_type": "code",
   "execution_count": 13,
   "id": "retained-country",
   "metadata": {},
   "outputs": [
    {
     "data": {
      "image/png": "[encoded data removed]",
      "text/plain": [
       "<Figure size 432x288 with 2 Axes>"
      ]
     },
     "metadata": {
      "needs_background": "light"
     },
     "output_type": "display_data"
    }
   ],
   "source": [
    "fig = plt.figure(num = 2)\n",
    "fig1 = fig.add_subplot(2,1,1)\n",
    "fig2 = fig.add_subplot(2,1,2)\n",
    "fig1.plot(total_loss_train, label = 'training loss')\n",
    "fig1.plot(total_acc_train, label = 'training accuracy')\n",
    "fig2.plot(total_loss_val, label = 'validation loss')\n",
    "fig2.plot(total_acc_val, label = 'validation accuracy')\n",
    "plt.legend()\n",
    "plt.show()"
   ]
  },
  {
   "cell_type": "code",
   "execution_count": 14,
   "id": "bacterial-resort",
   "metadata": {},
   "outputs": [],
   "source": [
    "def plot_confusion_matrix(cm, classes,\n",
    "                          normalize=False,\n",
    "                          title='Confusion matrix',\n",
    "                          cmap=plt.cm.Blues):\n",
    "    \"\"\"\n",
    "    This function prints and plots the confusion matrix.\n",
    "    Normalization can be applied by setting `normalize=True`.\n",
    "    \"\"\"\n",
    "    plt.imshow(cm, interpolation='nearest', cmap=cmap)\n",
    "    plt.title(title)\n",
    "    plt.colorbar()\n",
    "    tick_marks = np.arange(len(classes))\n",
    "    plt.xticks(tick_marks, classes, rotation=45)\n",
    "    plt.yticks(tick_marks, classes)\n",
    "\n",
    "    if normalize:\n",
    "        cm = cm.astype('float') / cm.sum(axis=1)[:, np.newaxis]\n",
    "\n",
    "    thresh = cm.max() / 2.\n",
    "    for i, j in itertools.product(range(cm.shape[0]), range(cm.shape[1])):\n",
    "        plt.text(j, i, cm[i, j],\n",
    "                 horizontalalignment=\"center\",\n",
    "                 color=\"white\" if cm[i, j] > thresh else \"black\")\n",
    "\n",
    "    plt.tight_layout()\n",
    "    plt.ylabel('True label')\n",
    "    plt.xlabel('Predicted label')"
   ]
  },
  {
   "cell_type": "code",
   "execution_count": 15,
   "id": "attached-jonathan",
   "metadata": {},
   "outputs": [
    {
     "data": {
      "image/png": "[encoded data removed]",
      "text/plain": [
       "<Figure size 432x288 with 2 Axes>"
      ]
     },
     "metadata": {
      "needs_background": "light"
     },
     "output_type": "display_data"
    }
   ],
   "source": [
    "model.eval()\n",
    "y_label = []\n",
    "y_predict = []\n",
    "\n",
    "prediction_list = []\n",
    "label_list = []\n",
    "with torch.no_grad():\n",
    "    for i, data in enumerate(val_loader):\n",
    "        images, labels = data\n",
    "        images = Variable(images).to(device)\n",
    "        outputs = model(images)\n",
    "        prediction = outputs.max(1, keepdim=True)[1]\n",
    "        y_label.extend(labels.cpu().numpy())\n",
    "        y_predict.extend(np.squeeze(prediction.cpu().numpy().T))\n",
    "        prediction_list.append(outputs)\n",
    "        label_list.append(labels)\n",
    "predictions = (torch.cat(prediction_list) / 10.).softmax(dim=1).cpu()\n",
    "labels = torch.cat(label_list).cpu()\n",
    "# compute the confusion matrix\n",
    "confusion_mtx = confusion_matrix(y_label, y_predict)\n",
    "# plot the confusion matrix\n",
    "plot_labels = ['akiec', 'bcc', 'bkl', 'df', 'nv', 'vasc','mel']\n",
    "plot_confusion_matrix(confusion_mtx, plot_labels)"
   ]
  },
  {
   "cell_type": "code",
   "execution_count": 26,
   "id": "behavioral-transport",
   "metadata": {},
   "outputs": [
    {
     "name": "stdout",
     "output_type": "stream",
     "text": [
      "Iteration 0, lr=0.00100, NLL=0.975\n",
      "Iteration 100, lr=0.00100, NLL=0.903\n",
      "Iteration 200, lr=0.00100, NLL=0.819\n",
      "Iteration 300, lr=0.00100, NLL=0.720\n",
      "Iteration 400, lr=0.00100, NLL=0.609\n",
      "Iteration 500, lr=0.00100, NLL=0.496\n",
      "Iteration 600, lr=0.00100, NLL=0.404\n",
      "Iteration 700, lr=0.00100, NLL=0.355\n",
      "Iteration 800, lr=0.00100, NLL=0.341\n",
      "Iteration 900, lr=0.00100, NLL=0.340\n",
      "Iteration 1000, lr=0.00000, NLL=0.340\n"
     ]
    }
   ],
   "source": [
    "import sys\n",
    "sys.path.append('/atlas/u/shengjia/torchuq_release/')\n",
    "\n",
    "import torchuq\n",
    "\n",
    "import importlib\n",
    "importlib.reload(torchuq.transform.basic)\n",
    "importlib.reload(torchuq.transform.parametric)\n",
    "from torchuq.transform.parametric import TemperatureScaling\n",
    "\n",
    "calibrator = TemperatureScaling(verbose=True)\n",
    "calibrator.train(predictions, labels)\n",
    "predictions = calibrator(predictions).detach()"
   ]
  },
  {
   "cell_type": "code",
   "execution_count": 27,
   "id": "recorded-protein",
   "metadata": {},
   "outputs": [
    {
     "data": {
      "text/plain": [
       "tensor(0.8815)"
      ]
     },
     "execution_count": 27,
     "metadata": {},
     "output_type": "execute_result"
    }
   ],
   "source": [
    "from torchuq.metric.categorical import compute_accuracy\n",
    "compute_accuracy(predictions, labels)"
   ]
  },
  {
   "cell_type": "code",
   "execution_count": 28,
   "id": "devoted-samba",
   "metadata": {},
   "outputs": [],
   "source": [
    "torch.save({'predictions': predictions, 'labels': labels}, 'ham_densenet161/predictions.tar')"
   ]
  },
  {
   "cell_type": "code",
   "execution_count": null,
   "id": "structured-cherry",
   "metadata": {},
   "outputs": [],
   "source": []
  }
 ],
 "metadata": {
  "kernelspec": {
   "display_name": "Python 3",
   "language": "python",
   "name": "python3"
  },
  "language_info": {
   "codemirror_mode": {
    "name": "ipython",
    "version": 3
   },
   "file_extension": ".py",
   "mimetype": "text/x-python",
   "name": "python",
   "nbconvert_exporter": "python",
   "pygments_lexer": "ipython3",
   "version": "3.8.3"
  },
  "toc-showtags": false
 },
 "nbformat": 4,
 "nbformat_minor": 5
}
