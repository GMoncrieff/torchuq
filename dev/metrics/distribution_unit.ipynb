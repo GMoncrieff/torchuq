{
 "cells": [
  {
   "cell_type": "code",
   "execution_count": 1,
   "id": "german-treasurer",
   "metadata": {},
   "outputs": [],
   "source": [
    "import sys\n",
    "sys.path.append('../..')"
   ]
  },
  {
   "cell_type": "code",
   "execution_count": 3,
   "id": "recorded-current",
   "metadata": {},
   "outputs": [
    {
     "name": "stdout",
     "output_type": "stream",
     "text": [
      "tensor(0.6025)\n",
      "tensor(0.5960)\n",
      "tensor(0.7853)\n",
      "0.6024413576276163\n",
      "0.5959960660883912\n",
      "0.7864229408092229\n"
     ]
    }
   ],
   "source": [
    "# Unit test for the CRPS, compare CRPS computed by our code and another library\n",
    "# There should be a tiny difference because of different numerical integration algorithms\n",
    "import properscoring as ps\n",
    "import numpy as np\n",
    "import torch\n",
    "from torchuq.metric.distribution import compute_crps\n",
    "\n",
    "n_sample = 1000\n",
    "\n",
    "predictions = torch.distributions.normal.Normal(loc=torch.zeros(n_sample), scale=torch.ones(n_sample))\n",
    "wrong_dist = torch.distributions.normal.Normal(loc=torch.zeros(n_sample), scale=torch.ones(n_sample) * 0.1)\n",
    "samples = predictions.sample()\n",
    "print(compute_crps(predictions, torch.ones(n_sample)).mean())\n",
    "print(compute_crps(predictions, samples).mean())\n",
    "print(compute_crps(wrong_dist, samples).mean())\n",
    "\n",
    "print(ps.crps_gaussian(np.ones(n_sample), mu=np.zeros(n_sample), sig=np.ones(n_sample)).mean())\n",
    "print(ps.crps_gaussian(samples, mu=np.zeros(n_sample), sig=np.ones(n_sample)).mean())\n",
    "print(ps.crps_gaussian(samples, mu=np.zeros(n_sample), sig=np.ones(n_sample) * 0.1).mean())"
   ]
  },
  {
   "cell_type": "code",
   "execution_count": null,
   "id": "neither-prague",
   "metadata": {},
   "outputs": [],
   "source": []
  }
 ],
 "metadata": {
  "kernelspec": {
   "display_name": "Python 3",
   "language": "python",
   "name": "python3"
  },
  "language_info": {
   "codemirror_mode": {
    "name": "ipython",
    "version": 3
   },
   "file_extension": ".py",
   "mimetype": "text/x-python",
   "name": "python",
   "nbconvert_exporter": "python",
   "pygments_lexer": "ipython3",
   "version": "3.8.3"
  }
 },
 "nbformat": 4,
 "nbformat_minor": 5
}
