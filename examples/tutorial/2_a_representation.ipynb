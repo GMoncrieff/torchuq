{
 "cells": [
  {
   "cell_type": "markdown",
   "id": "prescription-semiconductor",
   "metadata": {},
   "source": [
    "# Tutorial 2.a: Representing and Evaluating Uncertainty for Classification\n",
    "\n",
    "This tutorial is an extension to tutorial 1.a. Tutorial 1.a focuses on regression, while the current tutorial focuses on classification. \n",
    "\n",
    "Similar to regression, before we start to work with any predictions we must first think about how to represent our prediction. For example, when predicting image classes, we can represent it as a categorical distribution over all possible labels, or as a set of likely labels. Each representation has its pros and cons. Depending on the different requirements during training/deployment, we might even want to convert between different representations. \n",
    "<!-- For example, we might initially start from an ensemble prediction (maybe because we trained multiple models), then convert it into a cumulative density function prediction or a point prediction (which are more interpretable and easier to work with). Conversion is one of the main features of torchuq, and we will come back to this topic in a later tutorial.  -->\n",
    "\n",
    "This notebook aims to introduce some of the popular representations, and metrics to measure the quality of the prediction. "
   ]
  },
  {
   "cell_type": "markdown",
   "id": "generous-pillow",
   "metadata": {},
   "source": [
    "\n",
    "We first list the types of predictions currently supported by torchuq for classification. You can skip this part and come back later as a reference.  \n",
    "\n",
    "| Name          |  Variable type/shape  |  Constraint | \n",
    "| -----------   |  --------------       |   -------- | \n",
    "| Topk          |  `array [batch_size] or [batch_size, k] with int dtype` |  `Each element take values in {0, 1, ..., num_classes}` |                     \n",
    "| Categorical   | `array [batch_size, num_classes] with float32 dtype` |  |\n",
    "| Set           | `array [batch_size, num_classes] with int dtype` |   `Elements are 0 or 1`   |\n",
    "| Ensemble      | `dict: name -> prediction`  | |\n",
    "\n",
    "Transformations that are available\n",
    "\n",
    "<!-- | LogProb       |  `array [batch_size, num_classes] with float32 dtype` |  |  -->\n",
    "    \n",
    "| | topk | categorical | logprob | set | ensemble | \n",
    "| :----: | :-----: | :-----: | :------: | :-----: |  :-----: |\n",
    "| topk | - \n",
    "| categorical | |  - |\n",
    "| logprob | | | - | \n",
    "| set | | | | - | \n",
    "| ensemble | | | | | - "
   ]
  },
  {
   "cell_type": "code",
   "execution_count": 1,
   "id": "moved-desert",
   "metadata": {},
   "outputs": [],
   "source": [
    "# We first must important the dependencies, and make sure that the torchuq package is in PYTHONPATH\n",
    "# If you are running this notebook in the original directory as in the repo, then the following statement should work\n",
    "import sys\n",
    "sys.path.append('../..')   # Include the directory that contains the torchuq package\n",
    "import torch  \n",
    "from matplotlib import pyplot as plt"
   ]
  },
  {
   "cell_type": "code",
   "execution_count": 2,
   "id": "prompt-newark",
   "metadata": {},
   "outputs": [],
   "source": [
    "from torchuq.transform.direct import *\n",
    "reader = torch.load('pretrained/resnet18-cifar10.pt')\n",
    "reader['categorical'] = torch.softmax(reader['prob'] * 0.75, dim=1)\n",
    "reader['set'] = categorical_to_set(reader['categorical'])"
   ]
  },
  {
   "cell_type": "markdown",
   "id": "nuclear-rehabilitation",
   "metadata": {},
   "source": [
    "### 1. Top-k Prediction\n",
    "\n",
    "The simplest type of prediction specifies the top-k labels. For example, |"
   ]
  },
  {
   "cell_type": "code",
   "execution_count": 3,
   "id": "modern-priority",
   "metadata": {},
   "outputs": [
    {
     "name": "stdout",
     "output_type": "stream",
     "text": [
      "tensor([4.5591e-04, 2.3169e-04, 4.8663e-04, 9.9696e-01, 3.5859e-04, 5.2882e-04,\n",
      "        3.4517e-04, 2.6663e-04, 2.4861e-04, 1.1306e-04])\n"
     ]
    }
   ],
   "source": [
    "print(reader['categorical'][0])"
   ]
  },
  {
   "cell_type": "code",
   "execution_count": null,
   "id": "breeding-going",
   "metadata": {},
   "outputs": [],
   "source": []
  },
  {
   "cell_type": "code",
   "execution_count": null,
   "id": "checked-freeze",
   "metadata": {},
   "outputs": [],
   "source": []
  },
  {
   "cell_type": "markdown",
   "id": "humanitarian-boxing",
   "metadata": {},
   "source": [
    "### 2. Categorical Prediction "
   ]
  },
  {
   "cell_type": "code",
   "execution_count": 4,
   "id": "smooth-infrared",
   "metadata": {
    "tags": []
   },
   "outputs": [],
   "source": [
    "from torchuq.evaluate import categorical\n",
    "import numpy as np"
   ]
  },
  {
   "cell_type": "code",
   "execution_count": 7,
   "id": "involved-walter",
   "metadata": {},
   "outputs": [
    {
     "data": {
      "text/plain": [
       "<AxesSubplot:>"
      ]
     },
     "execution_count": 7,
     "metadata": {},
     "output_type": "execute_result"
    },
    {
     "data": {
      "image/png": "[encoded data removed]",
      "text/plain": [
       "<Figure size 360x360 with 1 Axes>"
      ]
     },
     "metadata": {
      "needs_background": "light"
     },
     "output_type": "display_data"
    }
   ],
   "source": [
    "categorical.plot_reliability_diagram(reader['categorical'], reader['labels'], binning='uniform')"
   ]
  },
  {
   "cell_type": "code",
   "execution_count": null,
   "id": "secondary-groove",
   "metadata": {},
   "outputs": [],
   "source": [
    "Other functions that could be added, plot_confusion, plot_classwise_calibration, "
   ]
  },
  {
   "cell_type": "markdown",
   "id": "surrounded-geneva",
   "metadata": {},
   "source": [
    "Sometimes using the probability is numerically unstable, and it often much more stable to represent and store the logarithm of the probabilities instead. For example, when the probability is $e^{-10}$ or $e^{-20}$, under float32 both could be rounded to $0$, but when they are inputs to an algorithm such as temperature scaling they should lead to different behavior. Torchuq does not use a separate class for log probability, "
   ]
  },
  {
   "cell_type": "markdown",
   "id": "numerical-chancellor",
   "metadata": {},
   "source": [
    "### 3. Set Prediction"
   ]
  },
  {
   "cell_type": "code",
   "execution_count": null,
   "id": "naval-december",
   "metadata": {},
   "outputs": [],
   "source": [
    "def compute_coverage(predictions, labels):\n",
    "    pass\n",
    "\n"
   ]
  },
  {
   "cell_type": "markdown",
   "id": "medical-metropolitan",
   "metadata": {},
   "source": [
    "# Reference Table for All Data Types\n",
    "\n",
    "In this setup, we consider the case where we make a prediction about some random variable $Y$. We will focus on two setups: regression where $Y$ takes values in $\\mathbb{R}$ (e.g. $Y$ could represent tomorrow's temperature in your city); and classification where $Y$ takes values in some discrete set $\\mathcal{Y}$ (e.g. $Y$ could represent the object category of an image).\n",
    "\n"
   ]
  },
  {
   "cell_type": "code",
   "execution_count": null,
   "id": "bound-stock",
   "metadata": {},
   "outputs": [],
   "source": []
  },
  {
   "cell_type": "markdown",
   "id": "above-stroke",
   "metadata": {},
   "source": [
    "# References\n",
    "\n",
    "[1] Gneiting, Tilmann. \"Making and evaluating point forecasts.\" Journal of the American Statistical Association 106, no. 494 (2011): 746-762.\n",
    "\n",
    "[3] Gneiting, Tilmann, and Matthias Katzfuss. \"Probabilistic forecasting.\" Annual Review of Statistics and Its Application 1 (2014): 125-151. \n",
    "\n",
    "[4] Kuleshov, Volodymyr, Nathan Fenner, and Stefano Ermon. \"Accurate uncertainties for deep learning using calibrated regression.\" In International Conference on Machine Learning, pp. 2796-2804. PMLR, 2018."
   ]
  },
  {
   "cell_type": "code",
   "execution_count": null,
   "id": "inside-sunset",
   "metadata": {},
   "outputs": [],
   "source": []
  }
 ],
 "metadata": {
  "kernelspec": {
   "display_name": "Python 3",
   "language": "python",
   "name": "python3"
  },
  "language_info": {
   "codemirror_mode": {
    "name": "ipython",
    "version": 3
   },
   "file_extension": ".py",
   "mimetype": "text/x-python",
   "name": "python",
   "nbconvert_exporter": "python",
   "pygments_lexer": "ipython3",
   "version": "3.8.3"
  }
 },
 "nbformat": 4,
 "nbformat_minor": 5
}
